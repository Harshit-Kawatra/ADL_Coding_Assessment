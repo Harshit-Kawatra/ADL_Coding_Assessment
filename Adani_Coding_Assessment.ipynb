{
 "cells": [
  {
   "cell_type": "code",
   "execution_count": 1,
   "id": "d67a6e4d",
   "metadata": {},
   "outputs": [
    {
     "data": {
      "text/plain": [
       "'\\n1. Write a function to create a 2-D List/Array with random integers between 0 to 100. This function should take two arguments -\\n   numberOfRows and numberOfColumns and return 2D list.\\n2. Write a function to sort the 2-D list based on column index keeping the rows intact. This function should take two arguments \\n   - 2D list created above and column Index and return sorted 2D list.\\n'"
      ]
     },
     "execution_count": 1,
     "metadata": {},
     "output_type": "execute_result"
    }
   ],
   "source": [
    "'''\n",
    "1. Write a function to create a 2-D List/Array with random integers between 0 to 100. This function should take two arguments -\n",
    "   numberOfRows and numberOfColumns and return 2D list.\n",
    "2. Write a function to sort the 2-D list based on column index keeping the rows intact. This function should take two arguments \n",
    "   - 2D list created above and column Index and return sorted 2D list.\n",
    "'''"
   ]
  },
  {
   "cell_type": "code",
   "execution_count": 2,
   "id": "44a96fce",
   "metadata": {},
   "outputs": [],
   "source": [
    "import random\n",
    "import numpy as np\n"
   ]
  },
  {
   "cell_type": "code",
   "execution_count": 14,
   "id": "8f5a1eaf",
   "metadata": {},
   "outputs": [
    {
     "name": "stdout",
     "output_type": "stream",
     "text": [
      "5\n",
      "6\n",
      "[[31 66  8  7 92  4]\n",
      " [40 26 88 60 85 89]\n",
      " [57 85 39 78 33 83]\n",
      " [57 29 16 36  2  6]\n",
      " [25 17 55 82 17 78]]\n"
     ]
    }
   ],
   "source": [
    "#Q1\n",
    "\n",
    "def generate(numberofRows, numberofColumns):\n",
    "    arr = []\n",
    "    for i in range(numberofRows):\n",
    "        col = []\n",
    "        for i in range(numberofColumns):\n",
    "            col.append(random.randint(0,100))\n",
    "        arr.append(col)\n",
    "    return arr\n",
    "\n",
    "numberofRows = int(input(\"\"))\n",
    "numberofColumns = int(input(\"\"))\n",
    "\n",
    "arr = generate(numberofRows,numberofColumns)\n",
    "arr = np.array(arr)\n",
    "print(arr)\n"
   ]
  },
  {
   "cell_type": "code",
   "execution_count": 15,
   "id": "a6c81f58",
   "metadata": {},
   "outputs": [
    {
     "name": "stdout",
     "output_type": "stream",
     "text": [
      "2\n",
      "Array sorted by column number : 2\n",
      "[[31 66  8  7 92  4]\n",
      " [57 29 16 36  2  6]\n",
      " [57 85 39 78 33 83]\n",
      " [25 17 55 82 17 78]\n",
      " [40 26 88 60 85 89]]\n"
     ]
    }
   ],
   "source": [
    "#Q2\n",
    "\n",
    "col_idx = int(input(\"\"))\n",
    "def sort_col_idx(arr, col_idx):\n",
    "    sortedArr = arr[arr[:,col_idx].argsort()]\n",
    "    print(\"Array sorted by column number :\",col_idx)\n",
    "    print(sortedArr)   \n",
    "    \n",
    "sort_col_idx(arr, col_idx)\n",
    "\n"
   ]
  },
  {
   "cell_type": "code",
   "execution_count": null,
   "id": "061a0eb1",
   "metadata": {},
   "outputs": [],
   "source": []
  }
 ],
 "metadata": {
  "kernelspec": {
   "display_name": "Python 3 (ipykernel)",
   "language": "python",
   "name": "python3"
  },
  "language_info": {
   "codemirror_mode": {
    "name": "ipython",
    "version": 3
   },
   "file_extension": ".py",
   "mimetype": "text/x-python",
   "name": "python",
   "nbconvert_exporter": "python",
   "pygments_lexer": "ipython3",
   "version": "3.9.6"
  }
 },
 "nbformat": 4,
 "nbformat_minor": 5
}
